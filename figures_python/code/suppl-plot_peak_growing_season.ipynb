{
 "cells": [
  {
   "cell_type": "code",
   "execution_count": 1,
   "metadata": {},
   "outputs": [],
   "source": [
    "import numpy as np\n",
    "import pandas as pd\n",
    "import matplotlib.pyplot as plt\n",
    "import seaborn as sns\n",
    "import glob\n",
    "from pathlib import Path\n",
    "import ee\n",
    "from loguru import logger"
   ]
  },
  {
   "cell_type": "code",
   "execution_count": 2,
   "metadata": {},
   "outputs": [],
   "source": [
    "ee.Initialize()\n",
    "\n",
    "S2_COLLECTION = ee.ImageCollection(\"COPERNICUS/S2_SR_HARMONIZED\").filterDate(\n",
    "    \"2020-01-01\", \"2020-12-31\"\n",
    ")"
   ]
  },
  {
   "cell_type": "code",
   "execution_count": 13,
   "metadata": {},
   "outputs": [],
   "source": [
    "def load_data():\n",
    "    # get all index files\n",
    "    index_files = glob.glob(\n",
    "        \"../../data/gee_pipeline/outputs/s2_indices_per_mgrs_tile/s2-indices_2020_*.txt\"\n",
    "    )\n",
    "\n",
    "    # filter out all the files that that are empty\n",
    "    index_files = [f for f in index_files if Path(f).stat().st_size > 0]\n",
    "\n",
    "    # create a list of dataframes\n",
    "    dfs = [pd.read_table(f, header=None) for f in index_files]\n",
    "\n",
    "    # concatenate all dataframes into a single dataframe\n",
    "    df = pd.concat(dfs)\n",
    "    df.columns = [\"system:index\"]\n",
    "    df[\"tile\"] = df[\"system:index\"].str.split(\"_\").str[2]\n",
    "    df[\"date\"] = df[\"system:index\"].str.split(\"_\").str[0]\n",
    "\n",
    "    # filter all dates in 2020\n",
    "    df = df[df[\"date\"].str.contains(\"2020\")]\n",
    "    df[\"tile\"] = df[\"tile\"].str[1:]\n",
    "\n",
    "    print(f\"Number of images: {df.shape[0]}\")\n",
    "    # sample one row per tile\n",
    "    df = df.drop_duplicates(subset=[\"tile\"])\n",
    "\n",
    "    return df"
   ]
  },
  {
   "cell_type": "code",
   "execution_count": 14,
   "metadata": {},
   "outputs": [],
   "source": [
    "def compute_features(fc):\n",
    "    fc_computed = ee.data.computeFeatures({\"expression\": fc})\n",
    "\n",
    "    total_features_retrieved = len(fc_computed.get(\"features\", {}))\n",
    "    if total_features_retrieved == 0:\n",
    "        logger.error(f\"Empty feature collection; after grouping.\")\n",
    "    if \"nextPageToken\" in fc_computed:\n",
    "        logger.debug(\n",
    "            f\"Partial retrieval of {total_features_retrieved} features. Fetching the rest.\"\n",
    "        )\n",
    "        fc_list = [fc_computed]\n",
    "        while \"nextPageToken\" in fc_computed:\n",
    "            fc_computed = ee.data.computeFeatures(\n",
    "                {\"expression\": fc, \"pageToken\": fc_computed[\"nextPageToken\"]}\n",
    "            )\n",
    "            fc_list.append(fc_computed)\n",
    "            total_features_retrieved += len(fc_computed[\"features\"])\n",
    "            logger.debug(\n",
    "                f\"Partial retrieval of {total_features_retrieved} features. Fetching the rest.\"\n",
    "            )\n",
    "        logger.debug(f\"Total features retrieved: {total_features_retrieved}\")\n",
    "        fc_concat = {\n",
    "            \"type\": \"FeatureCollection\",\n",
    "            \"features\": [feature for fc in fc_list for feature in fc[\"features\"]],\n",
    "        }\n",
    "    else:\n",
    "        logger.debug(f\"Total features retrieved: {total_features_retrieved}\")\n",
    "        fc_concat = fc_computed\n",
    "\n",
    "    return fc_concat"
   ]
  },
  {
   "cell_type": "code",
   "execution_count": 15,
   "metadata": {},
   "outputs": [],
   "source": [
    "def get_s2_lat_lon_from_system_indices(list_indices: list[str]) -> pd.DataFrame:\n",
    "    # convert list of system indices to a list of ee.List\n",
    "    list_indices = ee.List(list_indices)\n",
    "\n",
    "    # filter s2 collection by list of system indices\n",
    "    s2_imgc = S2_COLLECTION.filter(ee.Filter.inList(\"system:index\", list_indices))\n",
    "\n",
    "    # get the centroid and return as feature collection\n",
    "    s2_imgc_centroid = s2_imgc.map(\n",
    "        lambda img: ee.Feature(\n",
    "            None, {\"centroid\": img.geometry().centroid(), \"date\": img.date()}\n",
    "        )\n",
    "    )\n",
    "\n",
    "    # compute the features\n",
    "    # s2_imgc_centroid_computed = ee.data.computeFeatures(\n",
    "    #     {\"expression\": s2_imgc_centroid}\n",
    "    # )\n",
    "\n",
    "    s2_imgc_centroid_computed = compute_features(s2_imgc_centroid)\n",
    "\n",
    "    # get the features\n",
    "    features = s2_imgc_centroid_computed.get(\"features\", {})\n",
    "    if len(features) == 0:\n",
    "        logger.error(\"Empty feature collection\")\n",
    "        return pd.DataFrame()\n",
    "\n",
    "    # convert feature collection to pandas dataframe using geojson format\n",
    "    features = [\n",
    "        feature[\"properties\"]\n",
    "        for feature in features\n",
    "        if \"properties\" in feature\n",
    "        and \"centroid\" in feature[\"properties\"]\n",
    "        and \"coordinates\" in feature[\"properties\"][\"centroid\"]\n",
    "    ]\n",
    "\n",
    "    df = pd.DataFrame(features)\n",
    "    df[\"centroid\"] = df[\"centroid\"].apply(lambda x: x[\"coordinates\"])\n",
    "    df[[\"lon\", \"lat\"]] = pd.DataFrame(df[\"centroid\"].tolist(), index=df.index)\n",
    "    df = df.drop(columns=[\"centroid\"])\n",
    "\n",
    "    return df"
   ]
  },
  {
   "cell_type": "code",
   "execution_count": 16,
   "metadata": {},
   "outputs": [
    {
     "name": "stdout",
     "output_type": "stream",
     "text": [
      "Number of images: 254117\n"
     ]
    }
   ],
   "source": [
    "df = load_data()"
   ]
  },
  {
   "cell_type": "code",
   "execution_count": 17,
   "metadata": {},
   "outputs": [
    {
     "data": {
      "application/vnd.microsoft.datawrangler.viewer.v0+json": {
       "columns": [
        {
         "name": "index",
         "rawType": "int64",
         "type": "integer"
        },
        {
         "name": "system:index",
         "rawType": "object",
         "type": "string"
        },
        {
         "name": "tile",
         "rawType": "object",
         "type": "string"
        },
        {
         "name": "date",
         "rawType": "object",
         "type": "string"
        }
       ],
       "conversionMethod": "pd.DataFrame",
       "ref": "2f593ab8-4503-4e47-8b96-70d77fab62fa",
       "rows": [
        [
         "0",
         "20200719T031539_20200719T031541_T56XML",
         "56XML",
         "20200719T031539"
        ],
        [
         "4",
         "20200730T024549_20200730T024548_T56XMH",
         "56XMH",
         "20200730T024549"
        ],
        [
         "9",
         "20200911T025549_20200911T025546_T56XMJ",
         "56XMJ",
         "20200911T025549"
        ],
        [
         "0",
         "20200111T064229_20200111T064720_T40PBU",
         "40PBU",
         "20200111T064229"
        ],
        [
         "8",
         "20200111T064229_20200111T064720_T40PBV",
         "40PBV",
         "20200111T064229"
        ],
        [
         "0",
         "20200415T181921_20200415T183125_T12STB",
         "12STB",
         "20200415T181921"
        ],
        [
         "8",
         "20200225T182331_20200225T183257_T12STC",
         "12STC",
         "20200225T182331"
        ],
        [
         "16",
         "20200415T181921_20200415T183125_T12STD",
         "12STD",
         "20200415T181921"
        ],
        [
         "24",
         "20200415T181921_20200415T183125_T12STE",
         "12STE",
         "20200415T181921"
        ],
        [
         "32",
         "20200415T181921_20200415T183125_T12STF",
         "12STF",
         "20200415T181921"
        ],
        [
         "40",
         "20200505T181921_20200505T183339_T12STG",
         "12STG",
         "20200505T181921"
        ],
        [
         "48",
         "20201201T182731_20201201T182951_T12STH",
         "12STH",
         "20201201T182731"
        ],
        [
         "56",
         "20201121T182701_20201121T182954_T12STJ",
         "12STJ",
         "20201121T182701"
        ],
        [
         "64",
         "20201221T182801_20201221T182951_T12SUE",
         "12SUE",
         "20201221T182801"
        ],
        [
         "72",
         "20200505T181921_20200505T183339_T12SUF",
         "12SUF",
         "20200505T181921"
        ],
        [
         "80",
         "20200609T181919_20200609T183256_T12SUG",
         "12SUG",
         "20200609T181919"
        ],
        [
         "88",
         "20200609T181919_20200609T183256_T12SUH",
         "12SUH",
         "20200609T181919"
        ],
        [
         "96",
         "20200505T181921_20200505T182137_T12SUJ",
         "12SUJ",
         "20200505T181921"
        ],
        [
         "104",
         "20200410T181909_20200410T182654_T12SVJ",
         "12SVJ",
         "20200410T181909"
        ],
        [
         "112",
         "20200416T174911_20200416T175652_T12SWA",
         "12SWA",
         "20200416T174911"
        ],
        [
         "120",
         "20200416T174911_20200416T175652_T12SXA",
         "12SXA",
         "20200416T174911"
        ],
        [
         "128",
         "20200226T175311_20200226T175558_T12SXB",
         "12SXB",
         "20200226T175311"
        ],
        [
         "136",
         "20200903T174911_20200903T175552_T12SXC",
         "12SXC",
         "20200903T174911"
        ],
        [
         "144",
         "20200521T174909_20200521T175736_T12SXD",
         "12SXD",
         "20200521T174909"
        ],
        [
         "152",
         "20200102T175729_20200102T180326_T12SXE",
         "12SXE",
         "20200102T175729"
        ],
        [
         "160",
         "20201207T175729_20201207T175937_T12SXF",
         "12SXF",
         "20201207T175729"
        ],
        [
         "168",
         "20200411T174909_20200411T175522_T12SYA",
         "12SYA",
         "20200411T174909"
        ],
        [
         "176",
         "20200903T174911_20200903T175552_T12SYB",
         "12SYB",
         "20200903T174911"
        ],
        [
         "184",
         "20200903T174911_20200903T175552_T12SYC",
         "12SYC",
         "20200903T174911"
        ],
        [
         "192",
         "20200913T174941_20200913T175722_T12SYD",
         "12SYD",
         "20200913T174941"
        ],
        [
         "200",
         "20201207T175729_20201207T175937_T12SYE",
         "12SYE",
         "20201207T175729"
        ],
        [
         "208",
         "20200521T174909_20200521T175736_T12SYF",
         "12SYF",
         "20200521T174909"
        ],
        [
         "216",
         "20200730T174909_20200730T175822_T12SYG",
         "12SYG",
         "20200730T174909"
        ],
        [
         "224",
         "20200730T174909_20200730T175822_T12SYH",
         "12SYH",
         "20200730T174909"
        ],
        [
         "232",
         "20200620T174909_20200620T175739_T12SYJ",
         "12SYJ",
         "20200620T174909"
        ],
        [
         "248",
         "20200224T180329_20200224T181503_T12SUA",
         "12SUA",
         "20200224T180329"
        ],
        [
         "256",
         "20200204T180529_20200204T181448_T12SUB",
         "12SUB",
         "20200204T180529"
        ],
        [
         "264",
         "20200224T180329_20200224T180410_T12SUC",
         "12SUC",
         "20200224T180329"
        ],
        [
         "272",
         "20200224T180329_20200224T181503_T12SVA",
         "12SVA",
         "20200224T180329"
        ],
        [
         "280",
         "20200224T180329_20200224T180410_T12SVB",
         "12SVB",
         "20200224T180329"
        ],
        [
         "288",
         "20200224T180329_20200224T180410_T12SVC",
         "12SVC",
         "20200224T180329"
        ],
        [
         "296",
         "20201125T180701_20201125T180914_T12SVD",
         "12SVD",
         "20201125T180701"
        ],
        [
         "304",
         "20200524T175909_20200524T181417_T12SVE",
         "12SVE",
         "20200524T175909"
        ],
        [
         "312",
         "20200524T175909_20200524T180324_T12SVF",
         "12SVF",
         "20200524T175909"
        ],
        [
         "320",
         "20200524T175909_20200524T180324_T12SVG",
         "12SVG",
         "20200524T175909"
        ],
        [
         "336",
         "20200330T175921_20200330T181250_T12SWB",
         "12SWB",
         "20200330T175921"
        ],
        [
         "344",
         "20200224T180329_20200224T180410_T12SWC",
         "12SWC",
         "20200224T180329"
        ],
        [
         "352",
         "20201220T180749_20201220T180745_T12SWD",
         "12SWD",
         "20201220T180749"
        ],
        [
         "360",
         "20200524T175909_20200524T180324_T12SWE",
         "12SWE",
         "20200524T175909"
        ],
        [
         "368",
         "20201130T180719_20201130T180832_T12SWF",
         "12SWF",
         "20201130T180719"
        ]
       ],
       "shape": {
        "columns": 3,
        "rows": 18346
       }
      },
      "text/html": [
       "<div>\n",
       "<style scoped>\n",
       "    .dataframe tbody tr th:only-of-type {\n",
       "        vertical-align: middle;\n",
       "    }\n",
       "\n",
       "    .dataframe tbody tr th {\n",
       "        vertical-align: top;\n",
       "    }\n",
       "\n",
       "    .dataframe thead th {\n",
       "        text-align: right;\n",
       "    }\n",
       "</style>\n",
       "<table border=\"1\" class=\"dataframe\">\n",
       "  <thead>\n",
       "    <tr style=\"text-align: right;\">\n",
       "      <th></th>\n",
       "      <th>system:index</th>\n",
       "      <th>tile</th>\n",
       "      <th>date</th>\n",
       "    </tr>\n",
       "  </thead>\n",
       "  <tbody>\n",
       "    <tr>\n",
       "      <th>0</th>\n",
       "      <td>20200719T031539_20200719T031541_T56XML</td>\n",
       "      <td>56XML</td>\n",
       "      <td>20200719T031539</td>\n",
       "    </tr>\n",
       "    <tr>\n",
       "      <th>4</th>\n",
       "      <td>20200730T024549_20200730T024548_T56XMH</td>\n",
       "      <td>56XMH</td>\n",
       "      <td>20200730T024549</td>\n",
       "    </tr>\n",
       "    <tr>\n",
       "      <th>9</th>\n",
       "      <td>20200911T025549_20200911T025546_T56XMJ</td>\n",
       "      <td>56XMJ</td>\n",
       "      <td>20200911T025549</td>\n",
       "    </tr>\n",
       "    <tr>\n",
       "      <th>0</th>\n",
       "      <td>20200111T064229_20200111T064720_T40PBU</td>\n",
       "      <td>40PBU</td>\n",
       "      <td>20200111T064229</td>\n",
       "    </tr>\n",
       "    <tr>\n",
       "      <th>8</th>\n",
       "      <td>20200111T064229_20200111T064720_T40PBV</td>\n",
       "      <td>40PBV</td>\n",
       "      <td>20200111T064229</td>\n",
       "    </tr>\n",
       "    <tr>\n",
       "      <th>...</th>\n",
       "      <td>...</td>\n",
       "      <td>...</td>\n",
       "      <td>...</td>\n",
       "    </tr>\n",
       "    <tr>\n",
       "      <th>464</th>\n",
       "      <td>20200719T172901_20200719T173845_T14TLS</td>\n",
       "      <td>14TLS</td>\n",
       "      <td>20200719T172901</td>\n",
       "    </tr>\n",
       "    <tr>\n",
       "      <th>512</th>\n",
       "      <td>20200724T172859_20200724T173118_T14TMQ</td>\n",
       "      <td>14TMQ</td>\n",
       "      <td>20200724T172859</td>\n",
       "    </tr>\n",
       "    <tr>\n",
       "      <th>520</th>\n",
       "      <td>20200719T172901_20200719T173845_T14TMR</td>\n",
       "      <td>14TMR</td>\n",
       "      <td>20200719T172901</td>\n",
       "    </tr>\n",
       "    <tr>\n",
       "      <th>528</th>\n",
       "      <td>20200719T172901_20200719T173845_T14TMS</td>\n",
       "      <td>14TMS</td>\n",
       "      <td>20200719T172901</td>\n",
       "    </tr>\n",
       "    <tr>\n",
       "      <th>536</th>\n",
       "      <td>20200714T172859_20200714T172950_T14TMT</td>\n",
       "      <td>14TMT</td>\n",
       "      <td>20200714T172859</td>\n",
       "    </tr>\n",
       "  </tbody>\n",
       "</table>\n",
       "<p>18346 rows × 3 columns</p>\n",
       "</div>"
      ],
      "text/plain": [
       "                               system:index   tile             date\n",
       "0    20200719T031539_20200719T031541_T56XML  56XML  20200719T031539\n",
       "4    20200730T024549_20200730T024548_T56XMH  56XMH  20200730T024549\n",
       "9    20200911T025549_20200911T025546_T56XMJ  56XMJ  20200911T025549\n",
       "0    20200111T064229_20200111T064720_T40PBU  40PBU  20200111T064229\n",
       "8    20200111T064229_20200111T064720_T40PBV  40PBV  20200111T064229\n",
       "..                                      ...    ...              ...\n",
       "464  20200719T172901_20200719T173845_T14TLS  14TLS  20200719T172901\n",
       "512  20200724T172859_20200724T173118_T14TMQ  14TMQ  20200724T172859\n",
       "520  20200719T172901_20200719T173845_T14TMR  14TMR  20200719T172901\n",
       "528  20200719T172901_20200719T173845_T14TMS  14TMS  20200719T172901\n",
       "536  20200714T172859_20200714T172950_T14TMT  14TMT  20200714T172859\n",
       "\n",
       "[18346 rows x 3 columns]"
      ]
     },
     "execution_count": 17,
     "metadata": {},
     "output_type": "execute_result"
    }
   ],
   "source": [
    "df"
   ]
  },
  {
   "cell_type": "code",
   "execution_count": 18,
   "metadata": {},
   "outputs": [
    {
     "name": "stderr",
     "output_type": "stream",
     "text": [
      "\u001b[32m2025-03-19 13:12:05.181\u001b[0m | \u001b[34m\u001b[1mDEBUG   \u001b[0m | \u001b[36m__main__\u001b[0m:\u001b[36mcompute_features\u001b[0m:\u001b[36m8\u001b[0m - \u001b[34m\u001b[1mPartial retrieval of 1000 features. Fetching the rest.\u001b[0m\n",
      "\u001b[32m2025-03-19 13:12:12.038\u001b[0m | \u001b[34m\u001b[1mDEBUG   \u001b[0m | \u001b[36m__main__\u001b[0m:\u001b[36mcompute_features\u001b[0m:\u001b[36m18\u001b[0m - \u001b[34m\u001b[1mPartial retrieval of 2000 features. Fetching the rest.\u001b[0m\n",
      "\u001b[32m2025-03-19 13:12:19.819\u001b[0m | \u001b[34m\u001b[1mDEBUG   \u001b[0m | \u001b[36m__main__\u001b[0m:\u001b[36mcompute_features\u001b[0m:\u001b[36m18\u001b[0m - \u001b[34m\u001b[1mPartial retrieval of 3000 features. Fetching the rest.\u001b[0m\n",
      "\u001b[32m2025-03-19 13:12:27.029\u001b[0m | \u001b[34m\u001b[1mDEBUG   \u001b[0m | \u001b[36m__main__\u001b[0m:\u001b[36mcompute_features\u001b[0m:\u001b[36m18\u001b[0m - \u001b[34m\u001b[1mPartial retrieval of 4000 features. Fetching the rest.\u001b[0m\n",
      "\u001b[32m2025-03-19 13:12:32.390\u001b[0m | \u001b[34m\u001b[1mDEBUG   \u001b[0m | \u001b[36m__main__\u001b[0m:\u001b[36mcompute_features\u001b[0m:\u001b[36m18\u001b[0m - \u001b[34m\u001b[1mPartial retrieval of 5000 features. Fetching the rest.\u001b[0m\n",
      "\u001b[32m2025-03-19 13:12:37.465\u001b[0m | \u001b[34m\u001b[1mDEBUG   \u001b[0m | \u001b[36m__main__\u001b[0m:\u001b[36mcompute_features\u001b[0m:\u001b[36m18\u001b[0m - \u001b[34m\u001b[1mPartial retrieval of 6000 features. Fetching the rest.\u001b[0m\n",
      "\u001b[32m2025-03-19 13:12:45.385\u001b[0m | \u001b[34m\u001b[1mDEBUG   \u001b[0m | \u001b[36m__main__\u001b[0m:\u001b[36mcompute_features\u001b[0m:\u001b[36m18\u001b[0m - \u001b[34m\u001b[1mPartial retrieval of 7000 features. Fetching the rest.\u001b[0m\n",
      "\u001b[32m2025-03-19 13:12:52.003\u001b[0m | \u001b[34m\u001b[1mDEBUG   \u001b[0m | \u001b[36m__main__\u001b[0m:\u001b[36mcompute_features\u001b[0m:\u001b[36m18\u001b[0m - \u001b[34m\u001b[1mPartial retrieval of 8000 features. Fetching the rest.\u001b[0m\n",
      "\u001b[32m2025-03-19 13:12:59.461\u001b[0m | \u001b[34m\u001b[1mDEBUG   \u001b[0m | \u001b[36m__main__\u001b[0m:\u001b[36mcompute_features\u001b[0m:\u001b[36m18\u001b[0m - \u001b[34m\u001b[1mPartial retrieval of 9000 features. Fetching the rest.\u001b[0m\n",
      "\u001b[32m2025-03-19 13:13:07.065\u001b[0m | \u001b[34m\u001b[1mDEBUG   \u001b[0m | \u001b[36m__main__\u001b[0m:\u001b[36mcompute_features\u001b[0m:\u001b[36m18\u001b[0m - \u001b[34m\u001b[1mPartial retrieval of 10000 features. Fetching the rest.\u001b[0m\n",
      "\u001b[32m2025-03-19 13:13:11.757\u001b[0m | \u001b[34m\u001b[1mDEBUG   \u001b[0m | \u001b[36m__main__\u001b[0m:\u001b[36mcompute_features\u001b[0m:\u001b[36m18\u001b[0m - \u001b[34m\u001b[1mPartial retrieval of 11000 features. Fetching the rest.\u001b[0m\n",
      "\u001b[32m2025-03-19 13:13:19.324\u001b[0m | \u001b[34m\u001b[1mDEBUG   \u001b[0m | \u001b[36m__main__\u001b[0m:\u001b[36mcompute_features\u001b[0m:\u001b[36m18\u001b[0m - \u001b[34m\u001b[1mPartial retrieval of 12000 features. Fetching the rest.\u001b[0m\n",
      "\u001b[32m2025-03-19 13:13:24.506\u001b[0m | \u001b[34m\u001b[1mDEBUG   \u001b[0m | \u001b[36m__main__\u001b[0m:\u001b[36mcompute_features\u001b[0m:\u001b[36m18\u001b[0m - \u001b[34m\u001b[1mPartial retrieval of 13000 features. Fetching the rest.\u001b[0m\n",
      "\u001b[32m2025-03-19 13:13:30.902\u001b[0m | \u001b[34m\u001b[1mDEBUG   \u001b[0m | \u001b[36m__main__\u001b[0m:\u001b[36mcompute_features\u001b[0m:\u001b[36m18\u001b[0m - \u001b[34m\u001b[1mPartial retrieval of 14000 features. Fetching the rest.\u001b[0m\n",
      "\u001b[32m2025-03-19 13:13:35.989\u001b[0m | \u001b[34m\u001b[1mDEBUG   \u001b[0m | \u001b[36m__main__\u001b[0m:\u001b[36mcompute_features\u001b[0m:\u001b[36m18\u001b[0m - \u001b[34m\u001b[1mPartial retrieval of 15000 features. Fetching the rest.\u001b[0m\n",
      "\u001b[32m2025-03-19 13:13:41.573\u001b[0m | \u001b[34m\u001b[1mDEBUG   \u001b[0m | \u001b[36m__main__\u001b[0m:\u001b[36mcompute_features\u001b[0m:\u001b[36m18\u001b[0m - \u001b[34m\u001b[1mPartial retrieval of 16000 features. Fetching the rest.\u001b[0m\n",
      "\u001b[32m2025-03-19 13:13:46.844\u001b[0m | \u001b[34m\u001b[1mDEBUG   \u001b[0m | \u001b[36m__main__\u001b[0m:\u001b[36mcompute_features\u001b[0m:\u001b[36m18\u001b[0m - \u001b[34m\u001b[1mPartial retrieval of 17000 features. Fetching the rest.\u001b[0m\n",
      "\u001b[32m2025-03-19 13:13:53.312\u001b[0m | \u001b[34m\u001b[1mDEBUG   \u001b[0m | \u001b[36m__main__\u001b[0m:\u001b[36mcompute_features\u001b[0m:\u001b[36m18\u001b[0m - \u001b[34m\u001b[1mPartial retrieval of 18000 features. Fetching the rest.\u001b[0m\n",
      "\u001b[32m2025-03-19 13:13:58.626\u001b[0m | \u001b[34m\u001b[1mDEBUG   \u001b[0m | \u001b[36m__main__\u001b[0m:\u001b[36mcompute_features\u001b[0m:\u001b[36m18\u001b[0m - \u001b[34m\u001b[1mPartial retrieval of 18346 features. Fetching the rest.\u001b[0m\n",
      "\u001b[32m2025-03-19 13:13:58.627\u001b[0m | \u001b[34m\u001b[1mDEBUG   \u001b[0m | \u001b[36m__main__\u001b[0m:\u001b[36mcompute_features\u001b[0m:\u001b[36m21\u001b[0m - \u001b[34m\u001b[1mTotal features retrieved: 18346\u001b[0m\n"
     ]
    }
   ],
   "source": [
    "system_indices = df[\"system:index\"].tolist()\n",
    "fc = get_s2_lat_lon_from_system_indices(system_indices)"
   ]
  },
  {
   "cell_type": "code",
   "execution_count": 20,
   "metadata": {},
   "outputs": [
    {
     "data": {
      "application/vnd.microsoft.datawrangler.viewer.v0+json": {
       "columns": [
        {
         "name": "index",
         "rawType": "int64",
         "type": "integer"
        },
        {
         "name": "date",
         "rawType": "object",
         "type": "unknown"
        },
        {
         "name": "lon",
         "rawType": "float64",
         "type": "float"
        },
        {
         "name": "lat",
         "rawType": "float64",
         "type": "float"
        }
       ],
       "conversionMethod": "pd.DataFrame",
       "ref": "7bf038a8-ddc1-4ac7-b857-9685999da1f7",
       "rows": [
        [
         "0",
         "{'type': 'Date', 'value': 1577837943100}",
         "152.44472006938315",
         "-8.612546219979539"
        ],
        [
         "1",
         "{'type': 'Date', 'value': 1577846720478}",
         "117.49857979964271",
         "8.54992212078842"
        ],
        [
         "2",
         "{'type': 'Date', 'value': 1577846716771}",
         "118.36988627179012",
         "8.566408612648859"
        ],
        [
         "3",
         "{'type': 'Date', 'value': 1577849710550}",
         "105.50119076018993",
         "10.358641011294628"
        ],
        [
         "4",
         "{'type': 'Date', 'value': 1577859742305}",
         "51.71012192404675",
         "-46.55925751454418"
        ],
        [
         "5",
         "{'type': 'Date', 'value': 1577865113996}",
         "37.20913660903772",
         "-7.011325436143693"
        ],
        [
         "6",
         "{'type': 'Date', 'value': 1577865108798}",
         "37.695353034408924",
         "-6.833960730570228"
        ],
        [
         "7",
         "{'type': 'Date', 'value': 1577865100595}",
         "37.681752480952795",
         "-6.320787012550796"
        ],
        [
         "8",
         "{'type': 'Date', 'value': 1577865104461}",
         "39.41104154075216",
         "-6.954378632462564"
        ],
        [
         "9",
         "{'type': 'Date', 'value': 1577868124722}",
         "26.591390586655592",
         "-6.8288598472496105"
        ],
        [
         "10",
         "{'type': 'Date', 'value': 1577868110188}",
         "26.592105922096664",
         "-5.924626698098301"
        ],
        [
         "11",
         "{'type': 'Date', 'value': 1577867598041}",
         "31.891366880404146",
         "24.768003891233324"
        ],
        [
         "12",
         "{'type': 'Date', 'value': 1577867594992}",
         "32.55324101845664",
         "24.82032910357233"
        ],
        [
         "13",
         "{'type': 'Date', 'value': 1577873679995}",
         "7.59330348114924",
         "22.1050719666974"
        ],
        [
         "14",
         "{'type': 'Date', 'value': 1577873665584}",
         "7.584112219305075",
         "23.008371210192266"
        ],
        [
         "15",
         "{'type': 'Date', 'value': 1577873651033}",
         "7.574451333249113",
         "23.91102205012941"
        ],
        [
         "16",
         "{'type': 'Date', 'value': 1577873476430}",
         "9.040634659835499",
         "34.49275842179465"
        ],
        [
         "17",
         "{'type': 'Date', 'value': 1577873499136}",
         "9.58696733822731",
         "32.94305258827703"
        ],
        [
         "18",
         "{'type': 'Date', 'value': 1577873361526}",
         "12.08471523982278",
         "41.020489317786684"
        ],
        [
         "19",
         "{'type': 'Date', 'value': 1577873944277}",
         "2.7472977337439315",
         "6.714391440387722"
        ],
        [
         "20",
         "{'type': 'Date', 'value': 1577873941276}",
         "3.496484877705612",
         "6.741034020014143"
        ],
        [
         "21",
         "{'type': 'Date', 'value': 1577873952237}",
         "4.393020993535534",
         "5.839622221432752"
        ],
        [
         "22",
         "{'type': 'Date', 'value': 1577873937958}",
         "4.401379680767934",
         "6.739275415528686"
        ],
        [
         "23",
         "{'type': 'Date', 'value': 1577876585177}",
         "-3.0942024742995335",
         "28.885248920391337"
        ],
        [
         "24",
         "{'type': 'Date', 'value': 1577876583638}",
         "-2.4188879604194193",
         "28.807667497153876"
        ],
        [
         "25",
         "{'type': 'Date', 'value': 1577876470801}",
         "-1.2893808545642504",
         "35.63782433395808"
        ],
        [
         "26",
         "{'type': 'Date', 'value': 1577876424023}",
         "-0.08508253048495455",
         "38.31805794964046"
        ],
        [
         "27",
         "{'type': 'Date', 'value': 1577876475877}",
         "-0.21817606203741977",
         "35.00911001518352"
        ],
        [
         "28",
         "{'type': 'Date', 'value': 1577879634706}",
         "-17.4579933896337",
         "27.494433485826843"
        ],
        [
         "29",
         "{'type': 'Date', 'value': 1577879620145}",
         "-17.366427091670662",
         "28.385362409914215"
        ],
        [
         "30",
         "{'type': 'Date', 'value': 1577879616670}",
         "-16.4815526224058",
         "28.42473377575154"
        ],
        [
         "31",
         "{'type': 'Date', 'value': 1577889951835}",
         "-74.27221182797751",
         "-46.552064991762094"
        ],
        [
         "32",
         "{'type': 'Date', 'value': 1577892171106}",
         "-72.71038952116487",
         "0.4079765550515889"
        ],
        [
         "33",
         "{'type': 'Date', 'value': 1577912983357}",
         "-156.5599166758177",
         "20.287217357638557"
        ],
        [
         "34",
         "{'type': 'Date', 'value': 1577919683308}",
         "168.67748725235458",
         "-18.570316357198642"
        ],
        [
         "35",
         "{'type': 'Date', 'value': 1577931274268}",
         "126.23650588192011",
         "10.345504735191541"
        ],
        [
         "36",
         "{'type': 'Date', 'value': 1577937394445}",
         "99.49562731302778",
         "5.836266078304293"
        ],
        [
         "37",
         "{'type': 'Date', 'value': 1577941357953}",
         "70.1034986229333",
         "-49.295288692512784"
        ],
        [
         "38",
         "{'type': 'Date', 'value': 1577943540049}",
         "73.61532752714643",
         "-0.4744689671792687"
        ],
        [
         "39",
         "{'type': 'Date', 'value': 1577943514689}",
         "72.79715269772794",
         "1.3122370629814928"
        ],
        [
         "40",
         "{'type': 'Date', 'value': 1577943618372}",
         "72.19948272178738",
         "-5.012111367371643"
        ],
        [
         "41",
         "{'type': 'Date', 'value': 1577952504207}",
         "35.37472654078144",
         "5.825189788831568"
        ],
        [
         "42",
         "{'type': 'Date', 'value': 1577952501349}",
         "36.203780804176",
         "5.827364801034367"
        ],
        [
         "43",
         "{'type': 'Date', 'value': 1577953054895}",
         "27.688517246713847",
         "-26.74086672377998"
        ],
        [
         "44",
         "{'type': 'Date', 'value': 1577952638491}",
         "34.39287882501905",
         "-2.305188445664304"
        ],
        [
         "45",
         "{'type': 'Date', 'value': 1577952516652}",
         "36.181789827136896",
         "4.892505995580954"
        ],
        [
         "46",
         "{'type': 'Date', 'value': 1577957988609}",
         "20.457554863802653",
         "38.366976889064645"
        ],
        [
         "47",
         "{'type': 'Date', 'value': 1577964550497}",
         "-12.734835731784298",
         "7.6592379774199015"
        ],
        [
         "48",
         "{'type': 'Date', 'value': 1577964539513}",
         "-13.592709333632857",
         "8.547685538641847"
        ],
        [
         "49",
         "{'type': 'Date', 'value': 1577974226197}",
         "-59.50416124137684",
         "-28.497275628077983"
        ]
       ],
       "shape": {
        "columns": 3,
        "rows": 18346
       }
      },
      "text/html": [
       "<div>\n",
       "<style scoped>\n",
       "    .dataframe tbody tr th:only-of-type {\n",
       "        vertical-align: middle;\n",
       "    }\n",
       "\n",
       "    .dataframe tbody tr th {\n",
       "        vertical-align: top;\n",
       "    }\n",
       "\n",
       "    .dataframe thead th {\n",
       "        text-align: right;\n",
       "    }\n",
       "</style>\n",
       "<table border=\"1\" class=\"dataframe\">\n",
       "  <thead>\n",
       "    <tr style=\"text-align: right;\">\n",
       "      <th></th>\n",
       "      <th>date</th>\n",
       "      <th>lon</th>\n",
       "      <th>lat</th>\n",
       "    </tr>\n",
       "  </thead>\n",
       "  <tbody>\n",
       "    <tr>\n",
       "      <th>0</th>\n",
       "      <td>{'type': 'Date', 'value': 1577837943100}</td>\n",
       "      <td>152.444720</td>\n",
       "      <td>-8.612546</td>\n",
       "    </tr>\n",
       "    <tr>\n",
       "      <th>1</th>\n",
       "      <td>{'type': 'Date', 'value': 1577846720478}</td>\n",
       "      <td>117.498580</td>\n",
       "      <td>8.549922</td>\n",
       "    </tr>\n",
       "    <tr>\n",
       "      <th>2</th>\n",
       "      <td>{'type': 'Date', 'value': 1577846716771}</td>\n",
       "      <td>118.369886</td>\n",
       "      <td>8.566409</td>\n",
       "    </tr>\n",
       "    <tr>\n",
       "      <th>3</th>\n",
       "      <td>{'type': 'Date', 'value': 1577849710550}</td>\n",
       "      <td>105.501191</td>\n",
       "      <td>10.358641</td>\n",
       "    </tr>\n",
       "    <tr>\n",
       "      <th>4</th>\n",
       "      <td>{'type': 'Date', 'value': 1577859742305}</td>\n",
       "      <td>51.710122</td>\n",
       "      <td>-46.559258</td>\n",
       "    </tr>\n",
       "    <tr>\n",
       "      <th>...</th>\n",
       "      <td>...</td>\n",
       "      <td>...</td>\n",
       "      <td>...</td>\n",
       "    </tr>\n",
       "    <tr>\n",
       "      <th>18341</th>\n",
       "      <td>{'type': 'Date', 'value': 1609337977238}</td>\n",
       "      <td>-59.997842</td>\n",
       "      <td>-25.365747</td>\n",
       "    </tr>\n",
       "    <tr>\n",
       "      <th>18342</th>\n",
       "      <td>{'type': 'Date', 'value': 1609337976408}</td>\n",
       "      <td>-59.972845</td>\n",
       "      <td>-25.320069</td>\n",
       "    </tr>\n",
       "    <tr>\n",
       "      <th>18343</th>\n",
       "      <td>{'type': 'Date', 'value': 1609340662439}</td>\n",
       "      <td>-70.250398</td>\n",
       "      <td>-5.039718</td>\n",
       "    </tr>\n",
       "    <tr>\n",
       "      <th>18344</th>\n",
       "      <td>{'type': 'Date', 'value': 1609340619039}</td>\n",
       "      <td>-69.949023</td>\n",
       "      <td>-2.375324</td>\n",
       "    </tr>\n",
       "    <tr>\n",
       "      <th>18345</th>\n",
       "      <td>{'type': 'Date', 'value': 1609346258245}</td>\n",
       "      <td>-88.397967</td>\n",
       "      <td>21.201669</td>\n",
       "    </tr>\n",
       "  </tbody>\n",
       "</table>\n",
       "<p>18346 rows × 3 columns</p>\n",
       "</div>"
      ],
      "text/plain": [
       "                                           date         lon        lat\n",
       "0      {'type': 'Date', 'value': 1577837943100}  152.444720  -8.612546\n",
       "1      {'type': 'Date', 'value': 1577846720478}  117.498580   8.549922\n",
       "2      {'type': 'Date', 'value': 1577846716771}  118.369886   8.566409\n",
       "3      {'type': 'Date', 'value': 1577849710550}  105.501191  10.358641\n",
       "4      {'type': 'Date', 'value': 1577859742305}   51.710122 -46.559258\n",
       "...                                         ...         ...        ...\n",
       "18341  {'type': 'Date', 'value': 1609337977238}  -59.997842 -25.365747\n",
       "18342  {'type': 'Date', 'value': 1609337976408}  -59.972845 -25.320069\n",
       "18343  {'type': 'Date', 'value': 1609340662439}  -70.250398  -5.039718\n",
       "18344  {'type': 'Date', 'value': 1609340619039}  -69.949023  -2.375324\n",
       "18345  {'type': 'Date', 'value': 1609346258245}  -88.397967  21.201669\n",
       "\n",
       "[18346 rows x 3 columns]"
      ]
     },
     "execution_count": 20,
     "metadata": {},
     "output_type": "execute_result"
    }
   ],
   "source": [
    "fc"
   ]
  },
  {
   "cell_type": "code",
   "execution_count": 21,
   "metadata": {},
   "outputs": [],
   "source": [
    "# convert date to datetime // date column: {'type': 'Date', 'value': 1577988254772}\n",
    "fc[\"date\"] = pd.to_datetime(fc[\"date\"].apply(lambda x: x[\"value\"] / 1000), unit=\"s\")"
   ]
  },
  {
   "cell_type": "code",
   "execution_count": 22,
   "metadata": {},
   "outputs": [],
   "source": [
    "df = fc"
   ]
  },
  {
   "cell_type": "markdown",
   "metadata": {},
   "source": [
    "# Plotting - 1\n",
    "- divide into latitudinal zones\n",
    "- count per month and latidudinal zone\n",
    "- create heatmap"
   ]
  },
  {
   "cell_type": "code",
   "execution_count": 23,
   "metadata": {},
   "outputs": [
    {
     "data": {
      "application/vnd.microsoft.datawrangler.viewer.v0+json": {
       "columns": [
        {
         "name": "index",
         "rawType": "int64",
         "type": "integer"
        },
        {
         "name": "date",
         "rawType": "datetime64[ns]",
         "type": "datetime"
        },
        {
         "name": "lon",
         "rawType": "float64",
         "type": "float"
        },
        {
         "name": "lat",
         "rawType": "float64",
         "type": "float"
        }
       ],
       "conversionMethod": "pd.DataFrame",
       "ref": "2d4a5a6e-c280-49d9-bae5-53b419d2f0b6",
       "rows": [
        [
         "0",
         "2020-01-01 00:19:03.099999905",
         "152.44472006938315",
         "-8.612546219979539"
        ],
        [
         "1",
         "2020-01-01 02:45:20.477999926",
         "117.49857979964271",
         "8.54992212078842"
        ],
        [
         "2",
         "2020-01-01 02:45:16.770999908",
         "118.36988627179012",
         "8.566408612648859"
        ],
        [
         "3",
         "2020-01-01 03:35:10.549999952",
         "105.50119076018993",
         "10.358641011294628"
        ],
        [
         "4",
         "2020-01-01 06:22:22.305000067",
         "51.71012192404675",
         "-46.55925751454418"
        ],
        [
         "5",
         "2020-01-01 07:51:53.996000051",
         "37.20913660903772",
         "-7.011325436143693"
        ],
        [
         "6",
         "2020-01-01 07:51:48.798000097",
         "37.695353034408924",
         "-6.833960730570228"
        ],
        [
         "7",
         "2020-01-01 07:51:40.595000029",
         "37.681752480952795",
         "-6.320787012550796"
        ],
        [
         "8",
         "2020-01-01 07:51:44.460999966",
         "39.41104154075216",
         "-6.954378632462564"
        ],
        [
         "9",
         "2020-01-01 08:42:04.721999884",
         "26.591390586655592",
         "-6.8288598472496105"
        ],
        [
         "10",
         "2020-01-01 08:41:50.187999964",
         "26.592105922096664",
         "-5.924626698098301"
        ],
        [
         "11",
         "2020-01-01 08:33:18.040999889",
         "31.891366880404146",
         "24.768003891233324"
        ],
        [
         "12",
         "2020-01-01 08:33:14.992000103",
         "32.55324101845664",
         "24.82032910357233"
        ],
        [
         "13",
         "2020-01-01 10:14:39.994999886",
         "7.59330348114924",
         "22.1050719666974"
        ],
        [
         "14",
         "2020-01-01 10:14:25.584000111",
         "7.584112219305075",
         "23.008371210192266"
        ],
        [
         "15",
         "2020-01-01 10:14:11.032999992",
         "7.574451333249113",
         "23.91102205012941"
        ],
        [
         "16",
         "2020-01-01 10:11:16.430000067",
         "9.040634659835499",
         "34.49275842179465"
        ],
        [
         "17",
         "2020-01-01 10:11:39.135999918",
         "9.58696733822731",
         "32.94305258827703"
        ],
        [
         "18",
         "2020-01-01 10:09:21.526000023",
         "12.08471523982278",
         "41.020489317786684"
        ],
        [
         "19",
         "2020-01-01 10:19:04.276999950",
         "2.7472977337439315",
         "6.714391440387722"
        ],
        [
         "20",
         "2020-01-01 10:19:01.276000023",
         "3.496484877705612",
         "6.741034020014143"
        ],
        [
         "21",
         "2020-01-01 10:19:12.236999989",
         "4.393020993535534",
         "5.839622221432752"
        ],
        [
         "22",
         "2020-01-01 10:18:57.957999945",
         "4.401379680767934",
         "6.739275415528686"
        ],
        [
         "23",
         "2020-01-01 11:03:05.177000046",
         "-3.0942024742995335",
         "28.885248920391337"
        ],
        [
         "24",
         "2020-01-01 11:03:03.638000011",
         "-2.4188879604194193",
         "28.807667497153876"
        ],
        [
         "25",
         "2020-01-01 11:01:10.801000118",
         "-1.2893808545642504",
         "35.63782433395808"
        ],
        [
         "26",
         "2020-01-01 11:00:24.023000002",
         "-0.08508253048495455",
         "38.31805794964046"
        ],
        [
         "27",
         "2020-01-01 11:01:15.877000093",
         "-0.21817606203741977",
         "35.00911001518352"
        ],
        [
         "28",
         "2020-01-01 11:53:54.706000090",
         "-17.4579933896337",
         "27.494433485826843"
        ],
        [
         "29",
         "2020-01-01 11:53:40.144999981",
         "-17.366427091670662",
         "28.385362409914215"
        ],
        [
         "30",
         "2020-01-01 11:53:36.670000076",
         "-16.4815526224058",
         "28.42473377575154"
        ],
        [
         "31",
         "2020-01-01 14:45:51.835000038",
         "-74.27221182797751",
         "-46.552064991762094"
        ],
        [
         "32",
         "2020-01-01 15:22:51.105999947",
         "-72.71038952116487",
         "0.4079765550515889"
        ],
        [
         "33",
         "2020-01-01 21:09:43.357000113",
         "-156.5599166758177",
         "20.287217357638557"
        ],
        [
         "34",
         "2020-01-01 23:01:23.308000088",
         "168.67748725235458",
         "-18.570316357198642"
        ],
        [
         "35",
         "2020-01-02 02:14:34.267999887",
         "126.23650588192011",
         "10.345504735191541"
        ],
        [
         "36",
         "2020-01-02 03:56:34.444999933",
         "99.49562731302778",
         "5.836266078304293"
        ],
        [
         "37",
         "2020-01-02 05:02:37.953000069",
         "70.1034986229333",
         "-49.295288692512784"
        ],
        [
         "38",
         "2020-01-02 05:39:00.049000025",
         "73.61532752714643",
         "-0.4744689671792687"
        ],
        [
         "39",
         "2020-01-02 05:38:34.688999891",
         "72.79715269772794",
         "1.3122370629814928"
        ],
        [
         "40",
         "2020-01-02 05:40:18.371999979",
         "72.19948272178738",
         "-5.012111367371643"
        ],
        [
         "41",
         "2020-01-02 08:08:24.207000017",
         "35.37472654078144",
         "5.825189788831568"
        ],
        [
         "42",
         "2020-01-02 08:08:21.348999977",
         "36.203780804176",
         "5.827364801034367"
        ],
        [
         "43",
         "2020-01-02 08:17:34.894999981",
         "27.688517246713847",
         "-26.74086672377998"
        ],
        [
         "44",
         "2020-01-02 08:10:38.490999937",
         "34.39287882501905",
         "-2.305188445664304"
        ],
        [
         "45",
         "2020-01-02 08:08:36.651999950",
         "36.181789827136896",
         "4.892505995580954"
        ],
        [
         "46",
         "2020-01-02 09:39:48.608999968",
         "20.457554863802653",
         "38.366976889064645"
        ],
        [
         "47",
         "2020-01-02 11:29:10.496999979",
         "-12.734835731784298",
         "7.6592379774199015"
        ],
        [
         "48",
         "2020-01-02 11:28:59.513000011",
         "-13.592709333632857",
         "8.547685538641847"
        ],
        [
         "49",
         "2020-01-02 14:10:26.197000027",
         "-59.50416124137684",
         "-28.497275628077983"
        ]
       ],
       "shape": {
        "columns": 3,
        "rows": 18346
       }
      },
      "text/html": [
       "<div>\n",
       "<style scoped>\n",
       "    .dataframe tbody tr th:only-of-type {\n",
       "        vertical-align: middle;\n",
       "    }\n",
       "\n",
       "    .dataframe tbody tr th {\n",
       "        vertical-align: top;\n",
       "    }\n",
       "\n",
       "    .dataframe thead th {\n",
       "        text-align: right;\n",
       "    }\n",
       "</style>\n",
       "<table border=\"1\" class=\"dataframe\">\n",
       "  <thead>\n",
       "    <tr style=\"text-align: right;\">\n",
       "      <th></th>\n",
       "      <th>date</th>\n",
       "      <th>lon</th>\n",
       "      <th>lat</th>\n",
       "    </tr>\n",
       "  </thead>\n",
       "  <tbody>\n",
       "    <tr>\n",
       "      <th>0</th>\n",
       "      <td>2020-01-01 00:19:03.099999905</td>\n",
       "      <td>152.444720</td>\n",
       "      <td>-8.612546</td>\n",
       "    </tr>\n",
       "    <tr>\n",
       "      <th>1</th>\n",
       "      <td>2020-01-01 02:45:20.477999926</td>\n",
       "      <td>117.498580</td>\n",
       "      <td>8.549922</td>\n",
       "    </tr>\n",
       "    <tr>\n",
       "      <th>2</th>\n",
       "      <td>2020-01-01 02:45:16.770999908</td>\n",
       "      <td>118.369886</td>\n",
       "      <td>8.566409</td>\n",
       "    </tr>\n",
       "    <tr>\n",
       "      <th>3</th>\n",
       "      <td>2020-01-01 03:35:10.549999952</td>\n",
       "      <td>105.501191</td>\n",
       "      <td>10.358641</td>\n",
       "    </tr>\n",
       "    <tr>\n",
       "      <th>4</th>\n",
       "      <td>2020-01-01 06:22:22.305000067</td>\n",
       "      <td>51.710122</td>\n",
       "      <td>-46.559258</td>\n",
       "    </tr>\n",
       "    <tr>\n",
       "      <th>...</th>\n",
       "      <td>...</td>\n",
       "      <td>...</td>\n",
       "      <td>...</td>\n",
       "    </tr>\n",
       "    <tr>\n",
       "      <th>18341</th>\n",
       "      <td>2020-12-30 14:19:37.237999916</td>\n",
       "      <td>-59.997842</td>\n",
       "      <td>-25.365747</td>\n",
       "    </tr>\n",
       "    <tr>\n",
       "      <th>18342</th>\n",
       "      <td>2020-12-30 14:19:36.407999992</td>\n",
       "      <td>-59.972845</td>\n",
       "      <td>-25.320069</td>\n",
       "    </tr>\n",
       "    <tr>\n",
       "      <th>18343</th>\n",
       "      <td>2020-12-30 15:04:22.438999891</td>\n",
       "      <td>-70.250398</td>\n",
       "      <td>-5.039718</td>\n",
       "    </tr>\n",
       "    <tr>\n",
       "      <th>18344</th>\n",
       "      <td>2020-12-30 15:03:39.039000034</td>\n",
       "      <td>-69.949023</td>\n",
       "      <td>-2.375324</td>\n",
       "    </tr>\n",
       "    <tr>\n",
       "      <th>18345</th>\n",
       "      <td>2020-12-30 16:37:38.244999886</td>\n",
       "      <td>-88.397967</td>\n",
       "      <td>21.201669</td>\n",
       "    </tr>\n",
       "  </tbody>\n",
       "</table>\n",
       "<p>18346 rows × 3 columns</p>\n",
       "</div>"
      ],
      "text/plain": [
       "                               date         lon        lat\n",
       "0     2020-01-01 00:19:03.099999905  152.444720  -8.612546\n",
       "1     2020-01-01 02:45:20.477999926  117.498580   8.549922\n",
       "2     2020-01-01 02:45:16.770999908  118.369886   8.566409\n",
       "3     2020-01-01 03:35:10.549999952  105.501191  10.358641\n",
       "4     2020-01-01 06:22:22.305000067   51.710122 -46.559258\n",
       "...                             ...         ...        ...\n",
       "18341 2020-12-30 14:19:37.237999916  -59.997842 -25.365747\n",
       "18342 2020-12-30 14:19:36.407999992  -59.972845 -25.320069\n",
       "18343 2020-12-30 15:04:22.438999891  -70.250398  -5.039718\n",
       "18344 2020-12-30 15:03:39.039000034  -69.949023  -2.375324\n",
       "18345 2020-12-30 16:37:38.244999886  -88.397967  21.201669\n",
       "\n",
       "[18346 rows x 3 columns]"
      ]
     },
     "execution_count": 23,
     "metadata": {},
     "output_type": "execute_result"
    }
   ],
   "source": [
    "df"
   ]
  },
  {
   "cell_type": "code",
   "execution_count": 24,
   "metadata": {},
   "outputs": [],
   "source": [
    "# create month\n",
    "df[\"month\"] = df[\"date\"].dt.month"
   ]
  },
  {
   "cell_type": "code",
   "execution_count": 25,
   "metadata": {},
   "outputs": [],
   "source": [
    "# Simulate latitudinal zones from -90 to 90 degrees\n",
    "latitudinal_zones = np.arange(-60, 90, 10)  # 10-degree steps from -90 to +90\n",
    "\n",
    "# add latitudinal zone to df\n",
    "df[\"latitudinal_zone\"] = pd.cut(df[\"lat\"], latitudinal_zones)"
   ]
  },
  {
   "cell_type": "code",
   "execution_count": 26,
   "metadata": {},
   "outputs": [
    {
     "name": "stderr",
     "output_type": "stream",
     "text": [
      "/var/folders/v0/b73t62hd08z_gd18bqxybmt80000gn/T/ipykernel_62445/4032353644.py:2: FutureWarning: The default of observed=False is deprecated and will be changed to True in a future version of pandas. Pass observed=False to retain current behavior or observed=True to adopt the future default and silence this warning.\n",
      "  tiles_count = df.groupby([\"month\", \"latitudinal_zone\"]).size().reset_index(name=\"count\")\n"
     ]
    }
   ],
   "source": [
    "# count per month and latitudinal zone\n",
    "tiles_count = df.groupby([\"month\", \"latitudinal_zone\"]).size().reset_index(name=\"count\")"
   ]
  },
  {
   "cell_type": "code",
   "execution_count": 27,
   "metadata": {},
   "outputs": [
    {
     "data": {
      "application/vnd.microsoft.datawrangler.viewer.v0+json": {
       "columns": [
        {
         "name": "index",
         "rawType": "int64",
         "type": "integer"
        },
        {
         "name": "month",
         "rawType": "int32",
         "type": "integer"
        },
        {
         "name": "latitudinal_zone",
         "rawType": "category",
         "type": "unknown"
        },
        {
         "name": "count",
         "rawType": "int64",
         "type": "integer"
        }
       ],
       "conversionMethod": "pd.DataFrame",
       "ref": "f0bc8453-ed4e-4509-a5a0-5bc3ce8feb95",
       "rows": [
        [
         "0",
         "1",
         "(-60, -50]",
         "6"
        ],
        [
         "1",
         "1",
         "(-50, -40]",
         "4"
        ],
        [
         "2",
         "1",
         "(-40, -30]",
         "34"
        ],
        [
         "3",
         "1",
         "(-30, -20]",
         "87"
        ],
        [
         "4",
         "1",
         "(-20, -10]",
         "53"
        ],
        [
         "5",
         "1",
         "(-10, 0]",
         "144"
        ],
        [
         "6",
         "1",
         "(0, 10]",
         "234"
        ],
        [
         "7",
         "1",
         "(10, 20]",
         "104"
        ],
        [
         "8",
         "1",
         "(20, 30]",
         "363"
        ],
        [
         "9",
         "1",
         "(30, 40]",
         "262"
        ],
        [
         "10",
         "1",
         "(40, 50]",
         "79"
        ],
        [
         "11",
         "1",
         "(50, 60]",
         "7"
        ],
        [
         "12",
         "1",
         "(60, 70]",
         "1"
        ],
        [
         "13",
         "1",
         "(70, 80]",
         "0"
        ],
        [
         "14",
         "2",
         "(-60, -50]",
         "11"
        ],
        [
         "15",
         "2",
         "(-50, -40]",
         "16"
        ],
        [
         "16",
         "2",
         "(-40, -30]",
         "46"
        ],
        [
         "17",
         "2",
         "(-30, -20]",
         "165"
        ],
        [
         "18",
         "2",
         "(-20, -10]",
         "103"
        ],
        [
         "19",
         "2",
         "(-10, 0]",
         "109"
        ],
        [
         "20",
         "2",
         "(0, 10]",
         "58"
        ],
        [
         "21",
         "2",
         "(10, 20]",
         "77"
        ],
        [
         "22",
         "2",
         "(20, 30]",
         "207"
        ],
        [
         "23",
         "2",
         "(30, 40]",
         "133"
        ],
        [
         "24",
         "2",
         "(40, 50]",
         "88"
        ],
        [
         "25",
         "2",
         "(50, 60]",
         "2"
        ],
        [
         "26",
         "2",
         "(60, 70]",
         "2"
        ],
        [
         "27",
         "2",
         "(70, 80]",
         "0"
        ],
        [
         "28",
         "3",
         "(-60, -50]",
         "12"
        ],
        [
         "29",
         "3",
         "(-50, -40]",
         "14"
        ],
        [
         "30",
         "3",
         "(-40, -30]",
         "33"
        ],
        [
         "31",
         "3",
         "(-30, -20]",
         "287"
        ],
        [
         "32",
         "3",
         "(-20, -10]",
         "317"
        ],
        [
         "33",
         "3",
         "(-10, 0]",
         "133"
        ],
        [
         "34",
         "3",
         "(0, 10]",
         "50"
        ],
        [
         "35",
         "3",
         "(10, 20]",
         "61"
        ],
        [
         "36",
         "3",
         "(20, 30]",
         "226"
        ],
        [
         "37",
         "3",
         "(30, 40]",
         "118"
        ],
        [
         "38",
         "3",
         "(40, 50]",
         "29"
        ],
        [
         "39",
         "3",
         "(50, 60]",
         "10"
        ],
        [
         "40",
         "3",
         "(60, 70]",
         "2"
        ],
        [
         "41",
         "3",
         "(70, 80]",
         "4"
        ],
        [
         "42",
         "4",
         "(-60, -50]",
         "9"
        ],
        [
         "43",
         "4",
         "(-50, -40]",
         "18"
        ],
        [
         "44",
         "4",
         "(-40, -30]",
         "38"
        ],
        [
         "45",
         "4",
         "(-30, -20]",
         "136"
        ],
        [
         "46",
         "4",
         "(-20, -10]",
         "402"
        ],
        [
         "47",
         "4",
         "(-10, 0]",
         "179"
        ],
        [
         "48",
         "4",
         "(0, 10]",
         "67"
        ],
        [
         "49",
         "4",
         "(10, 20]",
         "33"
        ]
       ],
       "shape": {
        "columns": 3,
        "rows": 168
       }
      },
      "text/html": [
       "<div>\n",
       "<style scoped>\n",
       "    .dataframe tbody tr th:only-of-type {\n",
       "        vertical-align: middle;\n",
       "    }\n",
       "\n",
       "    .dataframe tbody tr th {\n",
       "        vertical-align: top;\n",
       "    }\n",
       "\n",
       "    .dataframe thead th {\n",
       "        text-align: right;\n",
       "    }\n",
       "</style>\n",
       "<table border=\"1\" class=\"dataframe\">\n",
       "  <thead>\n",
       "    <tr style=\"text-align: right;\">\n",
       "      <th></th>\n",
       "      <th>month</th>\n",
       "      <th>latitudinal_zone</th>\n",
       "      <th>count</th>\n",
       "    </tr>\n",
       "  </thead>\n",
       "  <tbody>\n",
       "    <tr>\n",
       "      <th>0</th>\n",
       "      <td>1</td>\n",
       "      <td>(-60, -50]</td>\n",
       "      <td>6</td>\n",
       "    </tr>\n",
       "    <tr>\n",
       "      <th>1</th>\n",
       "      <td>1</td>\n",
       "      <td>(-50, -40]</td>\n",
       "      <td>4</td>\n",
       "    </tr>\n",
       "    <tr>\n",
       "      <th>2</th>\n",
       "      <td>1</td>\n",
       "      <td>(-40, -30]</td>\n",
       "      <td>34</td>\n",
       "    </tr>\n",
       "    <tr>\n",
       "      <th>3</th>\n",
       "      <td>1</td>\n",
       "      <td>(-30, -20]</td>\n",
       "      <td>87</td>\n",
       "    </tr>\n",
       "    <tr>\n",
       "      <th>4</th>\n",
       "      <td>1</td>\n",
       "      <td>(-20, -10]</td>\n",
       "      <td>53</td>\n",
       "    </tr>\n",
       "    <tr>\n",
       "      <th>...</th>\n",
       "      <td>...</td>\n",
       "      <td>...</td>\n",
       "      <td>...</td>\n",
       "    </tr>\n",
       "    <tr>\n",
       "      <th>163</th>\n",
       "      <td>12</td>\n",
       "      <td>(30, 40]</td>\n",
       "      <td>75</td>\n",
       "    </tr>\n",
       "    <tr>\n",
       "      <th>164</th>\n",
       "      <td>12</td>\n",
       "      <td>(40, 50]</td>\n",
       "      <td>50</td>\n",
       "    </tr>\n",
       "    <tr>\n",
       "      <th>165</th>\n",
       "      <td>12</td>\n",
       "      <td>(50, 60]</td>\n",
       "      <td>22</td>\n",
       "    </tr>\n",
       "    <tr>\n",
       "      <th>166</th>\n",
       "      <td>12</td>\n",
       "      <td>(60, 70]</td>\n",
       "      <td>0</td>\n",
       "    </tr>\n",
       "    <tr>\n",
       "      <th>167</th>\n",
       "      <td>12</td>\n",
       "      <td>(70, 80]</td>\n",
       "      <td>0</td>\n",
       "    </tr>\n",
       "  </tbody>\n",
       "</table>\n",
       "<p>168 rows × 3 columns</p>\n",
       "</div>"
      ],
      "text/plain": [
       "     month latitudinal_zone  count\n",
       "0        1       (-60, -50]      6\n",
       "1        1       (-50, -40]      4\n",
       "2        1       (-40, -30]     34\n",
       "3        1       (-30, -20]     87\n",
       "4        1       (-20, -10]     53\n",
       "..     ...              ...    ...\n",
       "163     12         (30, 40]     75\n",
       "164     12         (40, 50]     50\n",
       "165     12         (50, 60]     22\n",
       "166     12         (60, 70]      0\n",
       "167     12         (70, 80]      0\n",
       "\n",
       "[168 rows x 3 columns]"
      ]
     },
     "execution_count": 27,
     "metadata": {},
     "output_type": "execute_result"
    }
   ],
   "source": [
    "tiles_count"
   ]
  },
  {
   "cell_type": "code",
   "execution_count": 28,
   "metadata": {},
   "outputs": [
    {
     "name": "stderr",
     "output_type": "stream",
     "text": [
      "/var/folders/v0/b73t62hd08z_gd18bqxybmt80000gn/T/ipykernel_62445/806737040.py:3: FutureWarning: The default of observed=False is deprecated and will be changed to True in a future version of pandas. Pass observed=False to retain current behavior or observed=True to adopt the future default and silence this warning.\n",
      "  tiles_count[\"proportion\"] = tiles_count.groupby(\"latitudinal_zone\")[\"count\"].transform(\n"
     ]
    }
   ],
   "source": [
    "# normalize counts to proportions per latidudinal zone\n",
    "\n",
    "tiles_count[\"proportion\"] = tiles_count.groupby(\"latitudinal_zone\")[\"count\"].transform(\n",
    "    lambda x: x / x.sum()\n",
    ")\n",
    "\n",
    "# replace NANs in proportion column with 0\n",
    "tiles_count[\"proportion\"] = tiles_count[\"proportion\"].fillna(0)"
   ]
  },
  {
   "cell_type": "code",
   "execution_count": 29,
   "metadata": {},
   "outputs": [
    {
     "data": {
      "application/vnd.microsoft.datawrangler.viewer.v0+json": {
       "columns": [
        {
         "name": "index",
         "rawType": "int64",
         "type": "integer"
        },
        {
         "name": "month",
         "rawType": "int32",
         "type": "integer"
        },
        {
         "name": "latitudinal_zone",
         "rawType": "category",
         "type": "unknown"
        },
        {
         "name": "count",
         "rawType": "int64",
         "type": "integer"
        },
        {
         "name": "proportion",
         "rawType": "float64",
         "type": "float"
        }
       ],
       "conversionMethod": "pd.DataFrame",
       "ref": "5bc4a65d-4a46-42b9-bdad-640a35f6e308",
       "rows": [
        [
         "0",
         "1",
         "(-60, -50]",
         "6",
         "0.0967741935483871"
        ],
        [
         "1",
         "1",
         "(-50, -40]",
         "4",
         "0.0213903743315508"
        ],
        [
         "2",
         "1",
         "(-40, -30]",
         "34",
         "0.059130434782608696"
        ],
        [
         "3",
         "1",
         "(-30, -20]",
         "87",
         "0.07585004359197908"
        ],
        [
         "4",
         "1",
         "(-20, -10]",
         "53",
         "0.04058192955589587"
        ],
        [
         "5",
         "1",
         "(-10, 0]",
         "144",
         "0.09574468085106383"
        ],
        [
         "6",
         "1",
         "(0, 10]",
         "234",
         "0.1723122238586156"
        ],
        [
         "7",
         "1",
         "(10, 20]",
         "104",
         "0.06662395900064061"
        ],
        [
         "8",
         "1",
         "(20, 30]",
         "363",
         "0.19105263157894736"
        ],
        [
         "9",
         "1",
         "(30, 40]",
         "262",
         "0.13547052740434332"
        ],
        [
         "10",
         "1",
         "(40, 50]",
         "79",
         "0.039303482587064675"
        ],
        [
         "11",
         "1",
         "(50, 60]",
         "7",
         "0.0033285782215882074"
        ],
        [
         "12",
         "1",
         "(60, 70]",
         "1",
         "0.0005420054200542005"
        ],
        [
         "13",
         "1",
         "(70, 80]",
         "0",
         "0.0"
        ],
        [
         "14",
         "2",
         "(-60, -50]",
         "11",
         "0.1774193548387097"
        ],
        [
         "15",
         "2",
         "(-50, -40]",
         "16",
         "0.0855614973262032"
        ],
        [
         "16",
         "2",
         "(-40, -30]",
         "46",
         "0.08"
        ],
        [
         "17",
         "2",
         "(-30, -20]",
         "165",
         "0.14385353095030515"
        ],
        [
         "18",
         "2",
         "(-20, -10]",
         "103",
         "0.07886676875957122"
        ],
        [
         "19",
         "2",
         "(-10, 0]",
         "109",
         "0.07247340425531915"
        ],
        [
         "20",
         "2",
         "(0, 10]",
         "58",
         "0.042709867452135494"
        ],
        [
         "21",
         "2",
         "(10, 20]",
         "77",
         "0.04932735426008968"
        ],
        [
         "22",
         "2",
         "(20, 30]",
         "207",
         "0.10894736842105263"
        ],
        [
         "23",
         "2",
         "(30, 40]",
         "133",
         "0.0687693898655636"
        ],
        [
         "24",
         "2",
         "(40, 50]",
         "88",
         "0.04378109452736319"
        ],
        [
         "25",
         "2",
         "(50, 60]",
         "2",
         "0.0009510223490252021"
        ],
        [
         "26",
         "2",
         "(60, 70]",
         "2",
         "0.001084010840108401"
        ],
        [
         "27",
         "2",
         "(70, 80]",
         "0",
         "0.0"
        ],
        [
         "28",
         "3",
         "(-60, -50]",
         "12",
         "0.1935483870967742"
        ],
        [
         "29",
         "3",
         "(-50, -40]",
         "14",
         "0.0748663101604278"
        ],
        [
         "30",
         "3",
         "(-40, -30]",
         "33",
         "0.057391304347826085"
        ],
        [
         "31",
         "3",
         "(-30, -20]",
         "287",
         "0.25021795989537926"
        ],
        [
         "32",
         "3",
         "(-20, -10]",
         "317",
         "0.24272588055130168"
        ],
        [
         "33",
         "3",
         "(-10, 0]",
         "133",
         "0.0884308510638298"
        ],
        [
         "34",
         "3",
         "(0, 10]",
         "50",
         "0.036818851251840944"
        ],
        [
         "35",
         "3",
         "(10, 20]",
         "61",
         "0.039077514413837285"
        ],
        [
         "36",
         "3",
         "(20, 30]",
         "226",
         "0.11894736842105263"
        ],
        [
         "37",
         "3",
         "(30, 40]",
         "118",
         "0.06101344364012409"
        ],
        [
         "38",
         "3",
         "(40, 50]",
         "29",
         "0.014427860696517412"
        ],
        [
         "39",
         "3",
         "(50, 60]",
         "10",
         "0.004755111745126011"
        ],
        [
         "40",
         "3",
         "(60, 70]",
         "2",
         "0.001084010840108401"
        ],
        [
         "41",
         "3",
         "(70, 80]",
         "4",
         "0.005442176870748299"
        ],
        [
         "42",
         "4",
         "(-60, -50]",
         "9",
         "0.14516129032258066"
        ],
        [
         "43",
         "4",
         "(-50, -40]",
         "18",
         "0.0962566844919786"
        ],
        [
         "44",
         "4",
         "(-40, -30]",
         "38",
         "0.06608695652173913"
        ],
        [
         "45",
         "4",
         "(-30, -20]",
         "136",
         "0.11857018308631212"
        ],
        [
         "46",
         "4",
         "(-20, -10]",
         "402",
         "0.30781010719754975"
        ],
        [
         "47",
         "4",
         "(-10, 0]",
         "179",
         "0.11901595744680851"
        ],
        [
         "48",
         "4",
         "(0, 10]",
         "67",
         "0.04933726067746686"
        ],
        [
         "49",
         "4",
         "(10, 20]",
         "33",
         "0.02114029468289558"
        ]
       ],
       "shape": {
        "columns": 4,
        "rows": 168
       }
      },
      "text/html": [
       "<div>\n",
       "<style scoped>\n",
       "    .dataframe tbody tr th:only-of-type {\n",
       "        vertical-align: middle;\n",
       "    }\n",
       "\n",
       "    .dataframe tbody tr th {\n",
       "        vertical-align: top;\n",
       "    }\n",
       "\n",
       "    .dataframe thead th {\n",
       "        text-align: right;\n",
       "    }\n",
       "</style>\n",
       "<table border=\"1\" class=\"dataframe\">\n",
       "  <thead>\n",
       "    <tr style=\"text-align: right;\">\n",
       "      <th></th>\n",
       "      <th>month</th>\n",
       "      <th>latitudinal_zone</th>\n",
       "      <th>count</th>\n",
       "      <th>proportion</th>\n",
       "    </tr>\n",
       "  </thead>\n",
       "  <tbody>\n",
       "    <tr>\n",
       "      <th>0</th>\n",
       "      <td>1</td>\n",
       "      <td>(-60, -50]</td>\n",
       "      <td>6</td>\n",
       "      <td>0.096774</td>\n",
       "    </tr>\n",
       "    <tr>\n",
       "      <th>1</th>\n",
       "      <td>1</td>\n",
       "      <td>(-50, -40]</td>\n",
       "      <td>4</td>\n",
       "      <td>0.021390</td>\n",
       "    </tr>\n",
       "    <tr>\n",
       "      <th>2</th>\n",
       "      <td>1</td>\n",
       "      <td>(-40, -30]</td>\n",
       "      <td>34</td>\n",
       "      <td>0.059130</td>\n",
       "    </tr>\n",
       "    <tr>\n",
       "      <th>3</th>\n",
       "      <td>1</td>\n",
       "      <td>(-30, -20]</td>\n",
       "      <td>87</td>\n",
       "      <td>0.075850</td>\n",
       "    </tr>\n",
       "    <tr>\n",
       "      <th>4</th>\n",
       "      <td>1</td>\n",
       "      <td>(-20, -10]</td>\n",
       "      <td>53</td>\n",
       "      <td>0.040582</td>\n",
       "    </tr>\n",
       "    <tr>\n",
       "      <th>...</th>\n",
       "      <td>...</td>\n",
       "      <td>...</td>\n",
       "      <td>...</td>\n",
       "      <td>...</td>\n",
       "    </tr>\n",
       "    <tr>\n",
       "      <th>163</th>\n",
       "      <td>12</td>\n",
       "      <td>(30, 40]</td>\n",
       "      <td>75</td>\n",
       "      <td>0.038780</td>\n",
       "    </tr>\n",
       "    <tr>\n",
       "      <th>164</th>\n",
       "      <td>12</td>\n",
       "      <td>(40, 50]</td>\n",
       "      <td>50</td>\n",
       "      <td>0.024876</td>\n",
       "    </tr>\n",
       "    <tr>\n",
       "      <th>165</th>\n",
       "      <td>12</td>\n",
       "      <td>(50, 60]</td>\n",
       "      <td>22</td>\n",
       "      <td>0.010461</td>\n",
       "    </tr>\n",
       "    <tr>\n",
       "      <th>166</th>\n",
       "      <td>12</td>\n",
       "      <td>(60, 70]</td>\n",
       "      <td>0</td>\n",
       "      <td>0.000000</td>\n",
       "    </tr>\n",
       "    <tr>\n",
       "      <th>167</th>\n",
       "      <td>12</td>\n",
       "      <td>(70, 80]</td>\n",
       "      <td>0</td>\n",
       "      <td>0.000000</td>\n",
       "    </tr>\n",
       "  </tbody>\n",
       "</table>\n",
       "<p>168 rows × 4 columns</p>\n",
       "</div>"
      ],
      "text/plain": [
       "     month latitudinal_zone  count  proportion\n",
       "0        1       (-60, -50]      6    0.096774\n",
       "1        1       (-50, -40]      4    0.021390\n",
       "2        1       (-40, -30]     34    0.059130\n",
       "3        1       (-30, -20]     87    0.075850\n",
       "4        1       (-20, -10]     53    0.040582\n",
       "..     ...              ...    ...         ...\n",
       "163     12         (30, 40]     75    0.038780\n",
       "164     12         (40, 50]     50    0.024876\n",
       "165     12         (50, 60]     22    0.010461\n",
       "166     12         (60, 70]      0    0.000000\n",
       "167     12         (70, 80]      0    0.000000\n",
       "\n",
       "[168 rows x 4 columns]"
      ]
     },
     "execution_count": 29,
     "metadata": {},
     "output_type": "execute_result"
    }
   ],
   "source": [
    "tiles_count"
   ]
  },
  {
   "cell_type": "code",
   "execution_count": 30,
   "metadata": {},
   "outputs": [
    {
     "data": {
      "application/vnd.microsoft.datawrangler.viewer.v0+json": {
       "columns": [
        {
         "name": "latitudinal_zone",
         "rawType": "category",
         "type": "unknown"
        },
        {
         "name": "1",
         "rawType": "float64",
         "type": "float"
        },
        {
         "name": "2",
         "rawType": "float64",
         "type": "float"
        },
        {
         "name": "3",
         "rawType": "float64",
         "type": "float"
        },
        {
         "name": "4",
         "rawType": "float64",
         "type": "float"
        },
        {
         "name": "5",
         "rawType": "float64",
         "type": "float"
        },
        {
         "name": "6",
         "rawType": "float64",
         "type": "float"
        },
        {
         "name": "7",
         "rawType": "float64",
         "type": "float"
        },
        {
         "name": "8",
         "rawType": "float64",
         "type": "float"
        },
        {
         "name": "9",
         "rawType": "float64",
         "type": "float"
        },
        {
         "name": "10",
         "rawType": "float64",
         "type": "float"
        },
        {
         "name": "11",
         "rawType": "float64",
         "type": "float"
        },
        {
         "name": "12",
         "rawType": "float64",
         "type": "float"
        }
       ],
       "conversionMethod": "pd.DataFrame",
       "ref": "5f1a878c-17f0-4a22-a674-665ca6b323c7",
       "rows": [
        [
         "(70, 80]",
         "0.0",
         "0.0",
         "0.005442176870748299",
         "0.01904761904761905",
         "0.05442176870748299",
         "0.0707482993197279",
         "0.43537414965986393",
         "0.33197278911564626",
         "0.07210884353741497",
         "0.010884353741496598",
         "0.0",
         "0.0"
        ],
        [
         "(60, 70]",
         "0.0005420054200542005",
         "0.001084010840108401",
         "0.001084010840108401",
         "0.0027100271002710027",
         "0.013550135501355014",
         "0.10298102981029811",
         "0.3831978319783198",
         "0.3983739837398374",
         "0.07859078590785908",
         "0.01788617886178862",
         "0.0",
         "0.0"
        ],
        [
         "(50, 60]",
         "0.0033285782215882074",
         "0.0009510223490252021",
         "0.004755111745126011",
         "0.008083689966714217",
         "0.05515929624346172",
         "0.20161673799334284",
         "0.25106990014265335",
         "0.33951497860199714",
         "0.10936757013789825",
         "0.010461245839277223",
         "0.005230622919638612",
         "0.010461245839277223"
        ],
        [
         "(40, 50]",
         "0.039303482587064675",
         "0.04378109452736319",
         "0.014427860696517412",
         "0.04825870646766169",
         "0.1383084577114428",
         "0.11343283582089553",
         "0.2218905472636816",
         "0.18756218905472638",
         "0.13333333333333333",
         "0.017412935323383085",
         "0.017412935323383085",
         "0.024875621890547265"
        ],
        [
         "(30, 40]",
         "0.13547052740434332",
         "0.0687693898655636",
         "0.06101344364012409",
         "0.09410548086866598",
         "0.13081695966907964",
         "0.04136504653567735",
         "0.0703205791106515",
         "0.20734229576008273",
         "0.11013443640124095",
         "0.025853154084798345",
         "0.016028955532574975",
         "0.03877973112719752"
        ],
        [
         "(20, 30]",
         "0.19105263157894736",
         "0.10894736842105263",
         "0.11894736842105263",
         "0.03263157894736842",
         "0.04789473684210526",
         "0.014210526315789474",
         "0.009473684210526316",
         "0.07",
         "0.10105263157894737",
         "0.16052631578947368",
         "0.09736842105263158",
         "0.04789473684210526"
        ],
        [
         "(10, 20]",
         "0.06662395900064061",
         "0.04932735426008968",
         "0.039077514413837285",
         "0.02114029468289558",
         "0.03010890454836643",
         "0.008327994875080076",
         "0.01729660474055093",
         "0.06598334401024984",
         "0.2575272261370916",
         "0.19026265214606022",
         "0.15118513773222295",
         "0.1031390134529148"
        ],
        [
         "(0, 10]",
         "0.1723122238586156",
         "0.042709867452135494",
         "0.036818851251840944",
         "0.04933726067746686",
         "0.11266568483063329",
         "0.07952871870397643",
         "0.06332842415316642",
         "0.08100147275405008",
         "0.09867452135493372",
         "0.14727540500736377",
         "0.05964653902798233",
         "0.05670103092783505"
        ],
        [
         "(-10, 0]",
         "0.09574468085106383",
         "0.07247340425531915",
         "0.0884308510638298",
         "0.11901595744680851",
         "0.1529255319148936",
         "0.18949468085106383",
         "0.10172872340425532",
         "0.07912234042553191",
         "0.017287234042553192",
         "0.01928191489361702",
         "0.015292553191489361",
         "0.04920212765957447"
        ],
        [
         "(-20, -10]",
         "0.04058192955589587",
         "0.07886676875957122",
         "0.24272588055130168",
         "0.30781010719754975",
         "0.17993874425727413",
         "0.06967840735068913",
         "0.033690658499234305",
         "0.018376722817764167",
         "0.006891271056661562",
         "0.004594180704441042",
         "0.0030627871362940277",
         "0.013782542113323124"
        ],
        [
         "(-30, -20]",
         "0.07585004359197908",
         "0.14385353095030515",
         "0.25021795989537926",
         "0.11857018308631212",
         "0.10985178727114212",
         "0.14036617262423715",
         "0.07061900610287707",
         "0.02877070619006103",
         "0.007846556233653008",
         "0.023539668700959023",
         "0.0017436791630340018",
         "0.02877070619006103"
        ],
        [
         "(-40, -30]",
         "0.059130434782608696",
         "0.08",
         "0.057391304347826085",
         "0.06608695652173913",
         "0.10434782608695652",
         "0.20869565217391303",
         "0.21565217391304348",
         "0.08347826086956522",
         "0.02782608695652174",
         "0.05565217391304348",
         "0.02782608695652174",
         "0.01391304347826087"
        ],
        [
         "(-50, -40]",
         "0.0213903743315508",
         "0.0855614973262032",
         "0.0748663101604278",
         "0.0962566844919786",
         "0.0962566844919786",
         "0.13903743315508021",
         "0.20855614973262032",
         "0.11229946524064172",
         "0.0481283422459893",
         "0.016042780748663103",
         "0.058823529411764705",
         "0.0427807486631016"
        ],
        [
         "(-60, -50]",
         "0.0967741935483871",
         "0.1774193548387097",
         "0.1935483870967742",
         "0.14516129032258066",
         "0.016129032258064516",
         "0.08064516129032258",
         "0.0",
         "0.0967741935483871",
         "0.016129032258064516",
         "0.04838709677419355",
         "0.11290322580645161",
         "0.016129032258064516"
        ]
       ],
       "shape": {
        "columns": 12,
        "rows": 14
       }
      },
      "text/html": [
       "<div>\n",
       "<style scoped>\n",
       "    .dataframe tbody tr th:only-of-type {\n",
       "        vertical-align: middle;\n",
       "    }\n",
       "\n",
       "    .dataframe tbody tr th {\n",
       "        vertical-align: top;\n",
       "    }\n",
       "\n",
       "    .dataframe thead th {\n",
       "        text-align: right;\n",
       "    }\n",
       "</style>\n",
       "<table border=\"1\" class=\"dataframe\">\n",
       "  <thead>\n",
       "    <tr style=\"text-align: right;\">\n",
       "      <th>month</th>\n",
       "      <th>1</th>\n",
       "      <th>2</th>\n",
       "      <th>3</th>\n",
       "      <th>4</th>\n",
       "      <th>5</th>\n",
       "      <th>6</th>\n",
       "      <th>7</th>\n",
       "      <th>8</th>\n",
       "      <th>9</th>\n",
       "      <th>10</th>\n",
       "      <th>11</th>\n",
       "      <th>12</th>\n",
       "    </tr>\n",
       "    <tr>\n",
       "      <th>latitudinal_zone</th>\n",
       "      <th></th>\n",
       "      <th></th>\n",
       "      <th></th>\n",
       "      <th></th>\n",
       "      <th></th>\n",
       "      <th></th>\n",
       "      <th></th>\n",
       "      <th></th>\n",
       "      <th></th>\n",
       "      <th></th>\n",
       "      <th></th>\n",
       "      <th></th>\n",
       "    </tr>\n",
       "  </thead>\n",
       "  <tbody>\n",
       "    <tr>\n",
       "      <th>(70, 80]</th>\n",
       "      <td>0.000000</td>\n",
       "      <td>0.000000</td>\n",
       "      <td>0.005442</td>\n",
       "      <td>0.019048</td>\n",
       "      <td>0.054422</td>\n",
       "      <td>0.070748</td>\n",
       "      <td>0.435374</td>\n",
       "      <td>0.331973</td>\n",
       "      <td>0.072109</td>\n",
       "      <td>0.010884</td>\n",
       "      <td>0.000000</td>\n",
       "      <td>0.000000</td>\n",
       "    </tr>\n",
       "    <tr>\n",
       "      <th>(60, 70]</th>\n",
       "      <td>0.000542</td>\n",
       "      <td>0.001084</td>\n",
       "      <td>0.001084</td>\n",
       "      <td>0.002710</td>\n",
       "      <td>0.013550</td>\n",
       "      <td>0.102981</td>\n",
       "      <td>0.383198</td>\n",
       "      <td>0.398374</td>\n",
       "      <td>0.078591</td>\n",
       "      <td>0.017886</td>\n",
       "      <td>0.000000</td>\n",
       "      <td>0.000000</td>\n",
       "    </tr>\n",
       "    <tr>\n",
       "      <th>(50, 60]</th>\n",
       "      <td>0.003329</td>\n",
       "      <td>0.000951</td>\n",
       "      <td>0.004755</td>\n",
       "      <td>0.008084</td>\n",
       "      <td>0.055159</td>\n",
       "      <td>0.201617</td>\n",
       "      <td>0.251070</td>\n",
       "      <td>0.339515</td>\n",
       "      <td>0.109368</td>\n",
       "      <td>0.010461</td>\n",
       "      <td>0.005231</td>\n",
       "      <td>0.010461</td>\n",
       "    </tr>\n",
       "    <tr>\n",
       "      <th>(40, 50]</th>\n",
       "      <td>0.039303</td>\n",
       "      <td>0.043781</td>\n",
       "      <td>0.014428</td>\n",
       "      <td>0.048259</td>\n",
       "      <td>0.138308</td>\n",
       "      <td>0.113433</td>\n",
       "      <td>0.221891</td>\n",
       "      <td>0.187562</td>\n",
       "      <td>0.133333</td>\n",
       "      <td>0.017413</td>\n",
       "      <td>0.017413</td>\n",
       "      <td>0.024876</td>\n",
       "    </tr>\n",
       "    <tr>\n",
       "      <th>(30, 40]</th>\n",
       "      <td>0.135471</td>\n",
       "      <td>0.068769</td>\n",
       "      <td>0.061013</td>\n",
       "      <td>0.094105</td>\n",
       "      <td>0.130817</td>\n",
       "      <td>0.041365</td>\n",
       "      <td>0.070321</td>\n",
       "      <td>0.207342</td>\n",
       "      <td>0.110134</td>\n",
       "      <td>0.025853</td>\n",
       "      <td>0.016029</td>\n",
       "      <td>0.038780</td>\n",
       "    </tr>\n",
       "    <tr>\n",
       "      <th>(20, 30]</th>\n",
       "      <td>0.191053</td>\n",
       "      <td>0.108947</td>\n",
       "      <td>0.118947</td>\n",
       "      <td>0.032632</td>\n",
       "      <td>0.047895</td>\n",
       "      <td>0.014211</td>\n",
       "      <td>0.009474</td>\n",
       "      <td>0.070000</td>\n",
       "      <td>0.101053</td>\n",
       "      <td>0.160526</td>\n",
       "      <td>0.097368</td>\n",
       "      <td>0.047895</td>\n",
       "    </tr>\n",
       "    <tr>\n",
       "      <th>(10, 20]</th>\n",
       "      <td>0.066624</td>\n",
       "      <td>0.049327</td>\n",
       "      <td>0.039078</td>\n",
       "      <td>0.021140</td>\n",
       "      <td>0.030109</td>\n",
       "      <td>0.008328</td>\n",
       "      <td>0.017297</td>\n",
       "      <td>0.065983</td>\n",
       "      <td>0.257527</td>\n",
       "      <td>0.190263</td>\n",
       "      <td>0.151185</td>\n",
       "      <td>0.103139</td>\n",
       "    </tr>\n",
       "    <tr>\n",
       "      <th>(0, 10]</th>\n",
       "      <td>0.172312</td>\n",
       "      <td>0.042710</td>\n",
       "      <td>0.036819</td>\n",
       "      <td>0.049337</td>\n",
       "      <td>0.112666</td>\n",
       "      <td>0.079529</td>\n",
       "      <td>0.063328</td>\n",
       "      <td>0.081001</td>\n",
       "      <td>0.098675</td>\n",
       "      <td>0.147275</td>\n",
       "      <td>0.059647</td>\n",
       "      <td>0.056701</td>\n",
       "    </tr>\n",
       "    <tr>\n",
       "      <th>(-10, 0]</th>\n",
       "      <td>0.095745</td>\n",
       "      <td>0.072473</td>\n",
       "      <td>0.088431</td>\n",
       "      <td>0.119016</td>\n",
       "      <td>0.152926</td>\n",
       "      <td>0.189495</td>\n",
       "      <td>0.101729</td>\n",
       "      <td>0.079122</td>\n",
       "      <td>0.017287</td>\n",
       "      <td>0.019282</td>\n",
       "      <td>0.015293</td>\n",
       "      <td>0.049202</td>\n",
       "    </tr>\n",
       "    <tr>\n",
       "      <th>(-20, -10]</th>\n",
       "      <td>0.040582</td>\n",
       "      <td>0.078867</td>\n",
       "      <td>0.242726</td>\n",
       "      <td>0.307810</td>\n",
       "      <td>0.179939</td>\n",
       "      <td>0.069678</td>\n",
       "      <td>0.033691</td>\n",
       "      <td>0.018377</td>\n",
       "      <td>0.006891</td>\n",
       "      <td>0.004594</td>\n",
       "      <td>0.003063</td>\n",
       "      <td>0.013783</td>\n",
       "    </tr>\n",
       "    <tr>\n",
       "      <th>(-30, -20]</th>\n",
       "      <td>0.075850</td>\n",
       "      <td>0.143854</td>\n",
       "      <td>0.250218</td>\n",
       "      <td>0.118570</td>\n",
       "      <td>0.109852</td>\n",
       "      <td>0.140366</td>\n",
       "      <td>0.070619</td>\n",
       "      <td>0.028771</td>\n",
       "      <td>0.007847</td>\n",
       "      <td>0.023540</td>\n",
       "      <td>0.001744</td>\n",
       "      <td>0.028771</td>\n",
       "    </tr>\n",
       "    <tr>\n",
       "      <th>(-40, -30]</th>\n",
       "      <td>0.059130</td>\n",
       "      <td>0.080000</td>\n",
       "      <td>0.057391</td>\n",
       "      <td>0.066087</td>\n",
       "      <td>0.104348</td>\n",
       "      <td>0.208696</td>\n",
       "      <td>0.215652</td>\n",
       "      <td>0.083478</td>\n",
       "      <td>0.027826</td>\n",
       "      <td>0.055652</td>\n",
       "      <td>0.027826</td>\n",
       "      <td>0.013913</td>\n",
       "    </tr>\n",
       "    <tr>\n",
       "      <th>(-50, -40]</th>\n",
       "      <td>0.021390</td>\n",
       "      <td>0.085561</td>\n",
       "      <td>0.074866</td>\n",
       "      <td>0.096257</td>\n",
       "      <td>0.096257</td>\n",
       "      <td>0.139037</td>\n",
       "      <td>0.208556</td>\n",
       "      <td>0.112299</td>\n",
       "      <td>0.048128</td>\n",
       "      <td>0.016043</td>\n",
       "      <td>0.058824</td>\n",
       "      <td>0.042781</td>\n",
       "    </tr>\n",
       "    <tr>\n",
       "      <th>(-60, -50]</th>\n",
       "      <td>0.096774</td>\n",
       "      <td>0.177419</td>\n",
       "      <td>0.193548</td>\n",
       "      <td>0.145161</td>\n",
       "      <td>0.016129</td>\n",
       "      <td>0.080645</td>\n",
       "      <td>0.000000</td>\n",
       "      <td>0.096774</td>\n",
       "      <td>0.016129</td>\n",
       "      <td>0.048387</td>\n",
       "      <td>0.112903</td>\n",
       "      <td>0.016129</td>\n",
       "    </tr>\n",
       "  </tbody>\n",
       "</table>\n",
       "</div>"
      ],
      "text/plain": [
       "month                   1         2         3         4         5         6   \\\n",
       "latitudinal_zone                                                               \n",
       "(70, 80]          0.000000  0.000000  0.005442  0.019048  0.054422  0.070748   \n",
       "(60, 70]          0.000542  0.001084  0.001084  0.002710  0.013550  0.102981   \n",
       "(50, 60]          0.003329  0.000951  0.004755  0.008084  0.055159  0.201617   \n",
       "(40, 50]          0.039303  0.043781  0.014428  0.048259  0.138308  0.113433   \n",
       "(30, 40]          0.135471  0.068769  0.061013  0.094105  0.130817  0.041365   \n",
       "(20, 30]          0.191053  0.108947  0.118947  0.032632  0.047895  0.014211   \n",
       "(10, 20]          0.066624  0.049327  0.039078  0.021140  0.030109  0.008328   \n",
       "(0, 10]           0.172312  0.042710  0.036819  0.049337  0.112666  0.079529   \n",
       "(-10, 0]          0.095745  0.072473  0.088431  0.119016  0.152926  0.189495   \n",
       "(-20, -10]        0.040582  0.078867  0.242726  0.307810  0.179939  0.069678   \n",
       "(-30, -20]        0.075850  0.143854  0.250218  0.118570  0.109852  0.140366   \n",
       "(-40, -30]        0.059130  0.080000  0.057391  0.066087  0.104348  0.208696   \n",
       "(-50, -40]        0.021390  0.085561  0.074866  0.096257  0.096257  0.139037   \n",
       "(-60, -50]        0.096774  0.177419  0.193548  0.145161  0.016129  0.080645   \n",
       "\n",
       "month                   7         8         9         10        11        12  \n",
       "latitudinal_zone                                                              \n",
       "(70, 80]          0.435374  0.331973  0.072109  0.010884  0.000000  0.000000  \n",
       "(60, 70]          0.383198  0.398374  0.078591  0.017886  0.000000  0.000000  \n",
       "(50, 60]          0.251070  0.339515  0.109368  0.010461  0.005231  0.010461  \n",
       "(40, 50]          0.221891  0.187562  0.133333  0.017413  0.017413  0.024876  \n",
       "(30, 40]          0.070321  0.207342  0.110134  0.025853  0.016029  0.038780  \n",
       "(20, 30]          0.009474  0.070000  0.101053  0.160526  0.097368  0.047895  \n",
       "(10, 20]          0.017297  0.065983  0.257527  0.190263  0.151185  0.103139  \n",
       "(0, 10]           0.063328  0.081001  0.098675  0.147275  0.059647  0.056701  \n",
       "(-10, 0]          0.101729  0.079122  0.017287  0.019282  0.015293  0.049202  \n",
       "(-20, -10]        0.033691  0.018377  0.006891  0.004594  0.003063  0.013783  \n",
       "(-30, -20]        0.070619  0.028771  0.007847  0.023540  0.001744  0.028771  \n",
       "(-40, -30]        0.215652  0.083478  0.027826  0.055652  0.027826  0.013913  \n",
       "(-50, -40]        0.208556  0.112299  0.048128  0.016043  0.058824  0.042781  \n",
       "(-60, -50]        0.000000  0.096774  0.016129  0.048387  0.112903  0.016129  "
      ]
     },
     "execution_count": 30,
     "metadata": {},
     "output_type": "execute_result"
    }
   ],
   "source": [
    "# Pivot for heatmap\n",
    "heatmap_data = tiles_count.pivot(\n",
    "    index=\"latitudinal_zone\", columns=\"month\", values=\"proportion\"\n",
    ")\n",
    "\n",
    "# reverse order of latitudinal zones\n",
    "heatmap_data = heatmap_data.iloc[::-1]\n",
    "\n",
    "# remove latitudinal zone above 80 degrees north\n",
    "heatmap_data"
   ]
  },
  {
   "cell_type": "code",
   "execution_count": 31,
   "metadata": {},
   "outputs": [
    {
     "data": {
      "image/png": "[encoded data removed]",
      "text/plain": [
       "<Figure size 1000x600 with 1 Axes>"
      ]
     },
     "metadata": {},
     "output_type": "display_data"
    }
   ],
   "source": [
    "# Create the heatmap\n",
    "plt.figure(figsize=(10, 6))\n",
    "sns.heatmap(\n",
    "    heatmap_data, cmap=\"YlGnBu\", annot=True, fmt=\".3f\", linewidths=0.5, cbar=False\n",
    ")\n",
    "# plt.title(\"Heatmap of Proportions by Month and Latitudinal Zone\")\n",
    "plt.xlabel(\"Month\", fontsize=14)\n",
    "plt.ylabel(\"Latitudinal Zone\", fontsize=14)\n",
    "\n",
    "\n",
    "# publication quality - increased font size\n",
    "plt.xticks(fontsize=12)\n",
    "plt.yticks(fontsize=12)\n",
    "\n",
    "plt.tight_layout()\n",
    "# plt.show()\n",
    "\n",
    "# save plot as vector graphics (svg or pdf)\n",
    "plt.savefig(\"heatmap_proportions_month_latitudinal_zone.png\", format=\"png\", dpi=300)"
   ]
  }
 ],
 "metadata": {
  "kernelspec": {
   "display_name": "gee_pipeline",
   "language": "python",
   "name": "python3"
  },
  "language_info": {
   "codemirror_mode": {
    "name": "ipython",
    "version": 3
   },
   "file_extension": ".py",
   "mimetype": "text/x-python",
   "name": "python",
   "nbconvert_exporter": "python",
   "pygments_lexer": "ipython3",
   "version": "3.12.5"
  }
 },
 "nbformat": 4,
 "nbformat_minor": 2
}
